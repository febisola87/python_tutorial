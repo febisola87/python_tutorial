{
 "cells": [
  {
   "cell_type": "markdown",
   "metadata": {},
   "source": [
    "## CONTROL FLOW IN PYTHON"
   ]
  },
  {
   "cell_type": "markdown",
   "metadata": {},
   "source": [
    "### comparison operators in python"
   ]
  },
  {
   "cell_type": "markdown",
   "metadata": {},
   "source": [
    "It's important to understand and be able to identify different comparison operators in python before diving into control flows , this will also allow us to have good understanding when it get to the level where we need to build complex programs. Some of the comparison operators includes...."
   ]
  },
  {
   "cell_type": "markdown",
   "metadata": {},
   "source": [
    "- Greater than >\n",
    "\n",
    "- Greater than or equal to >=\n",
    "\n",
    "- Less than <\n",
    "\n",
    "- Less than or equal to <=\n",
    "\n",
    "- Equal to ==\n",
    "\n",
    "- Not equal to !="
   ]
  },
  {
   "cell_type": "code",
   "execution_count": 3,
   "metadata": {},
   "outputs": [
    {
     "name": "stdout",
     "output_type": "stream",
     "text": [
      "True\n"
     ]
    }
   ],
   "source": [
    "print(5 > 2)"
   ]
  },
  {
   "cell_type": "code",
   "execution_count": 4,
   "metadata": {},
   "outputs": [
    {
     "name": "stdout",
     "output_type": "stream",
     "text": [
      "False\n"
     ]
    }
   ],
   "source": [
    "print(11 < 3)"
   ]
  },
  {
   "cell_type": "code",
   "execution_count": 5,
   "metadata": {},
   "outputs": [
    {
     "name": "stdout",
     "output_type": "stream",
     "text": [
      "False\n"
     ]
    }
   ],
   "source": [
    "print(10 > 10)"
   ]
  },
  {
   "cell_type": "code",
   "execution_count": 6,
   "metadata": {},
   "outputs": [
    {
     "name": "stdout",
     "output_type": "stream",
     "text": [
      "True\n"
     ]
    }
   ],
   "source": [
    "print(10 >= 10)"
   ]
  },
  {
   "cell_type": "code",
   "execution_count": 7,
   "metadata": {},
   "outputs": [
    {
     "name": "stdout",
     "output_type": "stream",
     "text": [
      "False\n"
     ]
    }
   ],
   "source": [
    "print(10 >= 11)"
   ]
  },
  {
   "cell_type": "code",
   "execution_count": 8,
   "metadata": {},
   "outputs": [
    {
     "name": "stdout",
     "output_type": "stream",
     "text": [
      "True\n"
     ]
    }
   ],
   "source": [
    "print(5 <= 6)"
   ]
  },
  {
   "cell_type": "code",
   "execution_count": 9,
   "metadata": {},
   "outputs": [
    {
     "name": "stdout",
     "output_type": "stream",
     "text": [
      "True\n"
     ]
    }
   ],
   "source": [
    "print(13 <= 13.0)"
   ]
  },
  {
   "cell_type": "code",
   "execution_count": 10,
   "metadata": {},
   "outputs": [
    {
     "name": "stdout",
     "output_type": "stream",
     "text": [
      "True\n"
     ]
    }
   ],
   "source": [
    "print(10 == 10)"
   ]
  },
  {
   "cell_type": "code",
   "execution_count": 11,
   "metadata": {},
   "outputs": [
    {
     "name": "stdout",
     "output_type": "stream",
     "text": [
      "False\n"
     ]
    }
   ],
   "source": [
    "print(10 == \"10\")"
   ]
  },
  {
   "cell_type": "code",
   "execution_count": 12,
   "metadata": {},
   "outputs": [
    {
     "name": "stdout",
     "output_type": "stream",
     "text": [
      "True\n"
     ]
    }
   ],
   "source": [
    "print(10 == 10.0)"
   ]
  },
  {
   "cell_type": "code",
   "execution_count": 13,
   "metadata": {},
   "outputs": [
    {
     "name": "stdout",
     "output_type": "stream",
     "text": [
      "False\n"
     ]
    }
   ],
   "source": [
    "print(10 != 10)"
   ]
  },
  {
   "cell_type": "code",
   "execution_count": 14,
   "metadata": {},
   "outputs": [
    {
     "name": "stdout",
     "output_type": "stream",
     "text": [
      "True\n"
     ]
    }
   ],
   "source": [
    "print(10 != 5)"
   ]
  },
  {
   "cell_type": "markdown",
   "metadata": {},
   "source": [
    "## Logical operators python"
   ]
  },
  {
   "cell_type": "markdown",
   "metadata": {},
   "source": [
    "Logical operators are heavily used in python and specifically in the control flows, this operators helps us to evaluate 2 different statements if they are True or False, example are ....."
   ]
  },
  {
   "cell_type": "markdown",
   "metadata": {},
   "source": [
    "- and ( & )\n",
    "- or ( | )"
   ]
  },
  {
   "cell_type": "code",
   "execution_count": 15,
   "metadata": {},
   "outputs": [
    {
     "name": "stdout",
     "output_type": "stream",
     "text": [
      "True\n"
     ]
    }
   ],
   "source": [
    "print((5 > 6) or (5 < 10))"
   ]
  },
  {
   "cell_type": "code",
   "execution_count": 16,
   "metadata": {},
   "outputs": [
    {
     "name": "stdout",
     "output_type": "stream",
     "text": [
      "False\n"
     ]
    }
   ],
   "source": [
    "print((5 > 6) and (5 < 10))"
   ]
  },
  {
   "cell_type": "code",
   "execution_count": 17,
   "metadata": {},
   "outputs": [],
   "source": [
    "names = [\"mayor\", \"febisola\"]"
   ]
  },
  {
   "cell_type": "code",
   "execution_count": 18,
   "metadata": {},
   "outputs": [
    {
     "name": "stdout",
     "output_type": "stream",
     "text": [
      "False\n"
     ]
    }
   ],
   "source": [
    "print((\"mayor\" in names) and (\"febisolaa\" in names))"
   ]
  },
  {
   "cell_type": "markdown",
   "metadata": {},
   "source": [
    "## if, elif, else statement"
   ]
  },
  {
   "cell_type": "code",
   "execution_count": 19,
   "metadata": {},
   "outputs": [],
   "source": [
    "x = 3"
   ]
  },
  {
   "cell_type": "code",
   "execution_count": 20,
   "metadata": {},
   "outputs": [
    {
     "name": "stdout",
     "output_type": "stream",
     "text": [
      "sorry its less than 5\n"
     ]
    }
   ],
   "source": [
    "if x > 5:\n",
    "    print(\"yes its greater than 5\")\n",
    "else:\n",
    "    print(\"sorry its less than 5\")"
   ]
  },
  {
   "cell_type": "code",
   "execution_count": 21,
   "metadata": {},
   "outputs": [
    {
     "name": "stdout",
     "output_type": "stream",
     "text": [
      "how old are you:   18\n",
      "You are eligible to watch this movie\n"
     ]
    }
   ],
   "source": [
    "movie_age = int(input(\"how old are you:   \"))\n",
    "\n",
    "if movie_age >= 18:\n",
    "    print(\"You are eligible to watch this movie\")\n",
    "else:\n",
    "    print(\"Sorry , you are too young to watch this movie\")"
   ]
  },
  {
   "cell_type": "code",
   "execution_count": 22,
   "metadata": {},
   "outputs": [],
   "source": [
    "magic_number = 10\n",
    "user_number = 3"
   ]
  },
  {
   "cell_type": "code",
   "execution_count": 23,
   "metadata": {},
   "outputs": [
    {
     "name": "stdout",
     "output_type": "stream",
     "text": [
      "Oops, the number you provided is less than the magic number\n"
     ]
    }
   ],
   "source": [
    "if user_number == magic_number:\n",
    "    print(\"Yipee, you've won\")\n",
    "elif user_number < magic_number:\n",
    "    print(\"Oops, the number you provided is less than the magic number\")\n",
    "else:\n",
    "    print(\"Oops, the number you provided is greater than the magic number\")"
   ]
  },
  {
   "cell_type": "code",
   "execution_count": 24,
   "metadata": {},
   "outputs": [
    {
     "name": "stdout",
     "output_type": "stream",
     "text": [
      "3\n",
      "please guess the magic number:  7\n",
      "sorry , try again later\n"
     ]
    }
   ],
   "source": [
    "import random\n",
    "\n",
    "magic_number = random.randint(1, 10)\n",
    "\n",
    "print(user_number)\n",
    "\n",
    "user_number = input(\"please guess the magic number:  \")\n",
    "\n",
    "if magic_number == user_number:\n",
    "    print(\"You've won\")\n",
    "else:\n",
    "    print(\"sorry , try again later\")"
   ]
  },
  {
   "cell_type": "code",
   "execution_count": 25,
   "metadata": {},
   "outputs": [
    {
     "name": "stdout",
     "output_type": "stream",
     "text": [
      "you are not eligible for this loan application\n"
     ]
    }
   ],
   "source": [
    "is_student = False\n",
    "salary = 800\n",
    "\n",
    "\n",
    "if (is_student == False) and (salary >= 2000):\n",
    "    print(\"you are eligible for this loan application\")\n",
    "else:\n",
    "    print(\"you are not eligible for this loan application\")"
   ]
  },
  {
   "cell_type": "code",
   "execution_count": 26,
   "metadata": {},
   "outputs": [
    {
     "name": "stdout",
     "output_type": "stream",
     "text": [
      "Are you a student, True or False:   False\n",
      "what is your monthly salary after tax:  3000\n",
      "you are eligible for this loan application\n"
     ]
    }
   ],
   "source": [
    "student_status = input(\"Are you a student, True or False:   \")\n",
    "    \n",
    "salary = int(input(\"what is your monthly salary after tax:  \"))\n",
    "\n",
    "if (student_status == \"False\") and (salary >= 2000):\n",
    "    print(\"you are eligible for this loan application\")\n",
    "else:\n",
    "    print(\"you are not eligible for this loan application\")"
   ]
  },
  {
   "cell_type": "code",
   "execution_count": 27,
   "metadata": {},
   "outputs": [
    {
     "name": "stdout",
     "output_type": "stream",
     "text": [
      "is it raining, True or False:    True\n",
      "is their traffic, True or False:   False\n",
      "The total commute time is 10 mins\n"
     ]
    }
   ],
   "source": [
    "commute_time = 7\n",
    "\n",
    "raining = input(\"is it raining, True or False:    \")\n",
    "traffic = input(\"is their traffic, True or False:   \")\n",
    "\n",
    "raining_default = 3\n",
    "traffic_default = 5\n",
    "\n",
    "\n",
    "if (raining == \"True\") and (traffic == \"True\"):\n",
    "    total = commute_time + raining_default + traffic_default\n",
    "    print(f\"The total commute time is {total} mins\")\n",
    "\n",
    "elif raining == \"True\" and traffic == \"False\":\n",
    "    total = commute_time + raining_default\n",
    "    print(f\"The total commute time is {total} mins\")\n",
    "    \n",
    "elif raining == \"False\" and traffic == \"True\":\n",
    "    total = commute_time + traffic_default\n",
    "    print(f\"The total commute time is {total} mins\")\n",
    "    \n",
    "else:\n",
    "    total = commute_time \n",
    "    print(f\"The total commute time is {total} mins\")"
   ]
  },
  {
   "cell_type": "code",
   "execution_count": 29,
   "metadata": {},
   "outputs": [
    {
     "name": "stdout",
     "output_type": "stream",
     "text": [
      "Whats your medium of transportation, Car or Bike:   Bike\n",
      "is it raining, True or False:    True\n",
      "is their traffic, True or False:   True\n",
      "The total commute time is 13 mins\n"
     ]
    }
   ],
   "source": [
    "car_commute = 10\n",
    "bike_commute = 5\n",
    "\n",
    "transportation = input(\"Whats your medium of transportation, Car or Bike:   \")\n",
    "raining = input(\"is it raining, True or False:    \")\n",
    "traffic = input(\"is their traffic, True or False:   \")\n",
    "\n",
    "raining_default = 3\n",
    "traffic_default = 5\n",
    "\n",
    "if transportation == \"Car\":\n",
    "    if (raining == \"True\") and (traffic == \"True\"):\n",
    "        total = car_commute + raining_default + traffic_default\n",
    "        print(f\"The total commute time is {total} mins\")\n",
    "    \n",
    "    elif raining == \"True\" and traffic == \"False\":\n",
    "        total = car_commute + raining_default\n",
    "        print(f\"The total commute time is {total} mins\")\n",
    "        \n",
    "    elif raining == \"False\" and traffic == \"True\":\n",
    "        total = car_commute + traffic_default\n",
    "        print(f\"The total commute time is {total} mins\")\n",
    "    else:\n",
    "        total = car_commute \n",
    "        print(f\"The total commute time is {total} mins\")\n",
    "        \n",
    "else:\n",
    "    if (raining == \"True\") and (traffic == \"True\"):\n",
    "        total = bike_commute + raining_default + traffic_default\n",
    "        print(f\"The total commute time is {total} mins\")\n",
    "        \n",
    "    elif raining == \"True\" and traffic == \"False\":\n",
    "        total = bike_commute + raining_default\n",
    "        print(f\"The total commute time is {total} mins\")\n",
    "        \n",
    "    elif raining == \"False\" and traffic == \"True\":\n",
    "        total = bike_commute + traffic_default\n",
    "        print(f\"The total commute time is {total} mins\")\n",
    "    else:\n",
    "        total = bike_commute \n",
    "        print(f\"The total commute time is {total} mins\")\n",
    "        \n",
    "        "
   ]
  },
  {
   "cell_type": "code",
   "execution_count": 30,
   "metadata": {},
   "outputs": [
    {
     "name": "stdout",
     "output_type": "stream",
     "text": [
      "God is good\n",
      "How are you\n",
      "This is a test\n",
      "This is a test1\n",
      "8\n",
      "Test 3\n"
     ]
    }
   ],
   "source": [
    "x = 5\n",
    "\n",
    "if x < 10:\n",
    "    if x % 2 == 1:\n",
    "        print(\"God is good\")\n",
    "        print(\"How are you\")\n",
    "        \n",
    "    print(\"This is a test\")\n",
    "    print(\"This is a test1\")\n",
    "    print(4 + 4)\n",
    "    \n",
    "print(\"Test 3\")"
   ]
  },
  {
   "cell_type": "markdown",
   "metadata": {},
   "source": [
    "## FOR LOOP AND WHILE LOOP IN PYTHON"
   ]
  },
  {
   "cell_type": "markdown",
   "metadata": {},
   "source": [
    "### FOR LOOP "
   ]
  },
  {
   "cell_type": "code",
   "execution_count": 33,
   "metadata": {},
   "outputs": [],
   "source": [
    "names = [\"omoba\", \"mayowa\", \"febisola\", \"ebun\", \"funbi\", \"zane\"]"
   ]
  },
  {
   "cell_type": "code",
   "execution_count": 34,
   "metadata": {},
   "outputs": [
    {
     "name": "stdout",
     "output_type": "stream",
     "text": [
      "omoba\n",
      "mayowa\n",
      "febisola\n",
      "ebun\n",
      "funbi\n",
      "zane\n"
     ]
    }
   ],
   "source": [
    "for name in names:\n",
    "    print(name)"
   ]
  },
  {
   "cell_type": "code",
   "execution_count": 31,
   "metadata": {},
   "outputs": [],
   "source": [
    "for name in names:\n",
    "    if name.startswith(\"m\"):\n",
    "        print(name, 2 + 2)\n",
    "names = [\"omoba\", \"mayowa\", \"febisola\", \"ebun\", \"funbi\", \"zane\"]"
   ]
  },
  {
   "cell_type": "code",
   "execution_count": 32,
   "metadata": {},
   "outputs": [
    {
     "name": "stdout",
     "output_type": "stream",
     "text": [
      "mayowa 4\n"
     ]
    }
   ],
   "source": [
    "for name in names:\n",
    "    if name.startswith(\"m\"):\n",
    "        print(name, 2 + 2)"
   ]
  },
  {
   "cell_type": "code",
   "execution_count": 35,
   "metadata": {},
   "outputs": [
    {
     "name": "stdout",
     "output_type": "stream",
     "text": [
      "1 is an odd number\n",
      "2 is an even number\n",
      "3 is an odd number\n",
      "4 is an even number\n",
      "5 is an odd number\n"
     ]
    }
   ],
   "source": [
    "for num in range(1, 6):\n",
    "    if num % 2 == 1:\n",
    "        print(f\"{num} is an odd number\")\n",
    "    else:\n",
    "        print(f\"{num} is an even number\")"
   ]
  },
  {
   "cell_type": "code",
   "execution_count": null,
   "metadata": {},
   "outputs": [],
   "source": []
  }
 ],
 "metadata": {
  "kernelspec": {
   "display_name": "Python 3",
   "language": "python",
   "name": "python3"
  },
  "language_info": {
   "codemirror_mode": {
    "name": "ipython",
    "version": 3
   },
   "file_extension": ".py",
   "mimetype": "text/x-python",
   "name": "python",
   "nbconvert_exporter": "python",
   "pygments_lexer": "ipython3",
   "version": "3.8.5"
  }
 },
 "nbformat": 4,
 "nbformat_minor": 4
}
